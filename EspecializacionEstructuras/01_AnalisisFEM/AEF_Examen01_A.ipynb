{
  "nbformat": 4,
  "nbformat_minor": 0,
  "metadata": {
    "colab": {
      "name": "AEF_Examen01_A.ipynb",
      "provenance": [],
      "authorship_tag": "ABX9TyPP0gu1PFufp5xHBP3qSx0V",
      "include_colab_link": true
    },
    "kernelspec": {
      "name": "python3",
      "display_name": "Python 3"
    },
    "language_info": {
      "name": "python"
    }
  },
  "cells": [
    {
      "cell_type": "markdown",
      "metadata": {
        "id": "view-in-github",
        "colab_type": "text"
      },
      "source": [
        "<a href=\"https://colab.research.google.com/github/michaelherediaperez/EspecializacionEstructuras/blob/main/01_AnalisisFEM/AEF_Examen01_A.ipynb\" target=\"_parent\"><img src=\"https://colab.research.google.com/assets/colab-badge.svg\" alt=\"Open In Colab\"/></a>"
      ]
    },
    {
      "cell_type": "markdown",
      "metadata": {
        "id": "3M8oFQWWDzoK"
      },
      "source": [
        "# Taller 01 - Primer examen\n",
        "\n",
        "##### Análisis Estructural por Elementos Finitos 2021 2S.\n",
        "##### Universidad Nacional de Colombia Sede Manizales\n",
        "##### Hecho por: Michael Heredia Pérez (mherediap@unal.edu.co)\n",
        "##### Fecha: noviembre 12 / 2021\n",
        "\n",
        "--- \n",
        "\n",
        "Se tiene una platina de acero de espesor 0.0125 m la cual está discretizada con dos elementos triangulares de deformación constante. Se pide:\n",
        "\n",
        "1. Definir y reportar la conectividad nodal para cada elemento.\n",
        "2. Calcular las funciones de forma para cada elemento.\n",
        "3. Calcular la matriz cinemática de cada elemento.\n",
        "4. Uilizando la matriz constitutiva correspondiente (tensión plana o deformación plana), calcular la matriz de rigidez de cada elemento.\n",
        "5. Utilizando la conectividad nodal definida en el punto 1, ensamblar las matrices de rigidez de cada elemento en una matriz de rigidez global.\n",
        "6. Reportar la matriz de rigidez de la platina, según la discretización dada.\n",
        "\n",
        "\n",
        "## Solución\n",
        "\n",
        "Dadas las condiciones del enunciado, se trabajará con el EF triangular de 3 nodos y con la matriz constitutiva para tensión plana."
      ]
    },
    {
      "cell_type": "code",
      "metadata": {
        "id": "ZoKhpDmgGzp5"
      },
      "source": [
        "# Importo librerías.\n",
        "import numpy as np \n",
        "import matplotlib.pyplot as plt\n",
        "import sympy as sp\n",
        "from IPython.display import display # Para imprimir bonito\n",
        "import pandas as pd"
      ],
      "execution_count": 374,
      "outputs": []
    },
    {
      "cell_type": "code",
      "metadata": {
        "id": "kyH2LwKpKjob"
      },
      "source": [
        "# Defino constantes para facilidad de lectura del código.\n",
        "# (recordar que python cuenta desde 0)\n",
        "X, Y = 0, 1\n",
        "NL1, NL2, NL3 = 0, 1, 2"
      ],
      "execution_count": 375,
      "outputs": []
    },
    {
      "cell_type": "markdown",
      "metadata": {
        "id": "DEQlj0rBKzPr"
      },
      "source": [
        "### Definición de la conectividad nodal\n",
        "\n",
        "**Punto 1**: la numeración de los nodos en la estrctura, de sus elementos, y se reporta la conectividad entre ellos.\n",
        "\n",
        "La matriz ```LaG```, es la matriz de conectividad nodal de \"Local a Global\", la cual relaciona los nodos locales y globales, siendo: \n",
        "\n",
        "* Filas = elementos (e).\n",
        "* Columna 1, 2, 3 = nodo global asociado al nodo local 1 (i), 2 (j) y 3 (k).\n",
        "\n",
        "Leyéndose: \"El elemento e se define del nodo i al nodo j al nodo k\".\n",
        "\n",
        "La matriz ```GDL``` relaciona los grados de libertad con sus respectivos nodos, siendo: \n",
        "\n",
        "* Fila = nodo,\n",
        "* Columna 1, 2 = gdl en X, Y  "
      ]
    },
    {
      "cell_type": "code",
      "metadata": {
        "id": "KEDLFWN5KyIm"
      },
      "source": [
        "# Matriz de coordenadas globales de los nodos.\n",
        "XYNOD = np.array([\n",
        "                  [1.5,   1.5],     # Nodo 1,\n",
        "                  [1.65,  1.5],     # Nodo 2,\n",
        "                  [1.625, 2.0],     # Nodo 3,\n",
        "                  [1.525, 2.0]      # Nodo 4.\n",
        "])\n",
        "\n",
        "# Matriz de conectividad nodal: Local a Global LaG.\n",
        "#                NL1, NL2, NL3      \n",
        "LaG = np.array([\n",
        "                [1,   3,   4],  # EF 1.\n",
        "                [1,   2,   3]   # EF 2.\n",
        "    ], dtype=int) -1\n",
        "\n",
        "NNDS = XYNOD.shape[0]   # Número de nodos.\n",
        "NEFS = LaG.shape[0]     # Número de elementos.\n",
        "NGDL = 2*NNDS           # Número de grados de libertad.\n",
        "\n",
        "# Matriz de grados de libertad.\n",
        "GDL = np.linspace(1, NGDL, NGDL, dtype=int).reshape((NNDS, 2)) -1"
      ],
      "execution_count": 376,
      "outputs": []
    },
    {
      "cell_type": "code",
      "metadata": {
        "colab": {
          "base_uri": "https://localhost:8080/",
          "height": 0
        },
        "id": "VVxFmsaIMzF1",
        "outputId": "067118c9-ef1f-4c63-f885-85baac6eb0ca"
      },
      "source": [
        "print(XYNOD)"
      ],
      "execution_count": 377,
      "outputs": [
        {
          "output_type": "stream",
          "name": "stdout",
          "text": [
            "[[1.5   1.5  ]\n",
            " [1.65  1.5  ]\n",
            " [1.625 2.   ]\n",
            " [1.525 2.   ]]\n"
          ]
        }
      ]
    },
    {
      "cell_type": "code",
      "metadata": {
        "colab": {
          "base_uri": "https://localhost:8080/",
          "height": 0
        },
        "id": "wZ_hedO2R_ng",
        "outputId": "81fc8e60-014b-4858-8cc5-c10cd7edc995"
      },
      "source": [
        "print(LaG+1)"
      ],
      "execution_count": 378,
      "outputs": [
        {
          "output_type": "stream",
          "name": "stdout",
          "text": [
            "[[1 3 4]\n",
            " [1 2 3]]\n"
          ]
        }
      ]
    },
    {
      "cell_type": "code",
      "metadata": {
        "colab": {
          "base_uri": "https://localhost:8080/",
          "height": 0
        },
        "id": "2AJktCPzbtCM",
        "outputId": "ba9a9725-90a1-4aa5-af0d-3844a7cb8743"
      },
      "source": [
        "print(GDL+1)"
      ],
      "execution_count": 379,
      "outputs": [
        {
          "output_type": "stream",
          "name": "stdout",
          "text": [
            "[[1 2]\n",
            " [3 4]\n",
            " [5 6]\n",
            " [7 8]]\n"
          ]
        }
      ]
    },
    {
      "cell_type": "code",
      "metadata": {
        "colab": {
          "base_uri": "https://localhost:8080/",
          "height": 227
        },
        "id": "UUec7YnISD0-",
        "outputId": "ffd74d58-70ab-4652-e320-1dc1b958ef87"
      },
      "source": [
        "# Dibujo de la estructa.\n",
        "fig = plt.figure()\n",
        "fig.set_size_inches(8, 3)\n",
        "ax = fig.add_subplot(111)\n",
        "\n",
        "for e in range(NEFS):\n",
        "   nod_ef = LaG[e, [NL1, NL2, NL3, NL1]]\n",
        "   \n",
        "   ax.plot(XYNOD[nod_ef, X], XYNOD[nod_ef, Y], 'b')\n",
        "\n",
        "   # se calcula la posición del centro de gravedad del triángulo\n",
        "   cg = np.mean(XYNOD[LaG[e,:], :], axis=0)\n",
        "\n",
        "   # y se reporta el número del elemento actual\n",
        "   ax.text(cg[X], cg[Y], f'{e+1}', \n",
        "           horizontalalignment='center', \n",
        "           verticalalignment='center', \n",
        "           color='b', fontsize=20)\n",
        "\n",
        "ax.plot(XYNOD[:,X], XYNOD[:,Y], 'g*')\n",
        "\n",
        "for i in range(NNDS):\n",
        "   plt.text(XYNOD[i,X], XYNOD[i,Y], f'{i+1}', color='r', fontsize=20)\n",
        "\n",
        "ax.set_title('Malla de elementos finitos')\n",
        "plt.show()"
      ],
      "execution_count": 380,
      "outputs": [
        {
          "output_type": "display_data",
          "data": {
            "image/png": "[encoded data removed]",
            "text/plain": [
              "<Figure size 576x216 with 1 Axes>"
            ]
          },
          "metadata": {
            "needs_background": "light"
          }
        }
      ]
    },
    {
      "cell_type": "markdown",
      "metadata": {
        "id": "dfS6JzXWapBO"
      },
      "source": [
        "## Funciones de forma.\n",
        "\n",
        "**Punto 2**: las funciones de forma se calculan a partir del procedimiento visto en clase, donde: \n",
        "\n",
        "$$ N^{(e)}_i(x, y) = \\frac{1}{2A} [a_i+b_ix+c_iy]  $$\n",
        "\n",
        "con\n",
        "\n",
        "$$ a_i=x_jy_k-x_ky_j $$\n",
        "$$ b_i=y_j-y_k $$\n",
        "$$ c_i=x_k-x_j $$\n",
        "\n",
        "Teniendo en cuenta la permutación que hay entre los nodos del EF."
      ]
    },
    {
      "cell_type": "code",
      "metadata": {
        "colab": {
          "base_uri": "https://localhost:8080/",
          "height": 449
        },
        "id": "iQqRLfsgScBO",
        "outputId": "60696b11-cbf4-40c5-cdb2-1f9d0a8699c9"
      },
      "source": [
        "# Defino variables simbólicas.\n",
        "xx, yy = sp.symbols('x y')\n",
        "\n",
        "# Por cada elemento finito.\n",
        "for e in range(NEFS):\n",
        "\n",
        "    # Indico el elemento para el que calculo la función de forma.\n",
        "    print(\"\\n***\\nEF e:{}\".format(e+1))\n",
        "\n",
        "    # Coordenadas de los nodos.\n",
        "    coord_x = XYNOD[LaG[e, :], X]\n",
        "    coord_y = XYNOD[LaG[e, :], Y]\n",
        "    \n",
        "    # Área del EF.\n",
        "    Ae = 0.5*np.linalg.det(\n",
        "        np.transpose(\n",
        "            np.array([\n",
        "                [1, 1, 1],\n",
        "                coord_x,\n",
        "                coord_y\n",
        "            ])\n",
        "        )\n",
        "        )\n",
        "  \n",
        "    if Ae <= 0:\n",
        "        raise Exception(\n",
        "            f'La numeración local del EF {e+1} debe especificarse en sentido antihorario.\\n')\n",
        "\n",
        "    # Por cada nodo dentro del EF.\n",
        "    for i in range(3):\n",
        "\n",
        "        # Se hacen las permutaciones para cada nodo.\n",
        "        #print(np.roll(coord_x, i))\n",
        "        x_i, x_j, x_k = np.roll(coord_x, -i)\n",
        "        y_i, y_j, y_k = np.roll(coord_y, -i)\n",
        "\n",
        "        ai = x_j*y_k - x_k*y_j\n",
        "        bi = y_j - y_k\n",
        "        ci = x_k - x_j\n",
        "\n",
        "        Ne_i = 1/(2*Ae) * (ai + bi*xx + ci*yy)\n",
        "        \n",
        "        # Imprimo en un formato bonito.\n",
        "        print(\"\\nN^({})_{}(x,y) = \".format(e+1, i+1))\n",
        "        display(Ne_i)"
      ],
      "execution_count": 381,
      "outputs": [
        {
          "output_type": "stream",
          "name": "stdout",
          "text": [
            "\n",
            "***\n",
            "EF e:1\n",
            "\n",
            "N^(1)_1(x,y) = \n"
          ]
        },
        {
          "output_type": "display_data",
          "data": {
            "text/latex": "$\\displaystyle 4.0 - 2.0 y$",
            "text/plain": [
              "4.0 - 2.0*y"
            ]
          },
          "metadata": {}
        },
        {
          "output_type": "stream",
          "name": "stdout",
          "text": [
            "\n",
            "N^(1)_2(x,y) = \n"
          ]
        },
        {
          "output_type": "display_data",
          "data": {
            "text/latex": "$\\displaystyle 9.99999999999999 x - 0.499999999999998 y - 14.25$",
            "text/plain": [
              "9.99999999999999*x - 0.499999999999998*y - 14.25"
            ]
          },
          "metadata": {}
        },
        {
          "output_type": "stream",
          "name": "stdout",
          "text": [
            "\n",
            "N^(1)_3(x,y) = \n"
          ]
        },
        {
          "output_type": "display_data",
          "data": {
            "text/latex": "$\\displaystyle - 9.99999999999999 x + 2.5 y + 11.25$",
            "text/plain": [
              "-9.99999999999999*x + 2.5*y + 11.25"
            ]
          },
          "metadata": {}
        },
        {
          "output_type": "stream",
          "name": "stdout",
          "text": [
            "\n",
            "***\n",
            "EF e:2\n",
            "\n",
            "N^(2)_1(x,y) = \n"
          ]
        },
        {
          "output_type": "display_data",
          "data": {
            "text/latex": "$\\displaystyle - 6.66666666666667 x - 0.333333333333332 y + 11.5$",
            "text/plain": [
              "-6.66666666666667*x - 0.333333333333332*y + 11.5"
            ]
          },
          "metadata": {}
        },
        {
          "output_type": "stream",
          "name": "stdout",
          "text": [
            "\n",
            "N^(2)_2(x,y) = \n"
          ]
        },
        {
          "output_type": "display_data",
          "data": {
            "text/latex": "$\\displaystyle 6.66666666666667 x - 1.66666666666667 y - 7.5$",
            "text/plain": [
              "6.66666666666667*x - 1.66666666666667*y - 7.5"
            ]
          },
          "metadata": {}
        },
        {
          "output_type": "stream",
          "name": "stdout",
          "text": [
            "\n",
            "N^(2)_3(x,y) = \n"
          ]
        },
        {
          "output_type": "display_data",
          "data": {
            "text/latex": "$\\displaystyle 2.0 y - 3.0$",
            "text/plain": [
              "2.0*y - 3.0"
            ]
          },
          "metadata": {}
        }
      ]
    },
    {
      "cell_type": "markdown",
      "metadata": {
        "id": "zc0zRVsXysYL"
      },
      "source": [
        "## Matrices de rigidez.\n",
        "\n",
        "A continuación se presenta el desarrollo de los **puntos 3, 4, 5 y 6** del enunciado dentro de un mismo ciclo.\n",
        "\n",
        "Dada la peculiaridad de que tanto las propiedades constitutivas como la matriz cinemática B son constantes dentro del elemento finito, estas salen de la integral, quedando:\n",
        "\n",
        "$$ K^{(e)} = t^{(e)} \\iint_{A^{(e)}} B^TCB dA  $$\n",
        "$$ K^{(e)} = t^{(e)} B^TCB \\iint_{A^{(e)}}dA  $$\n",
        "\n",
        "resultando en: \n",
        "\n",
        "$$ K^{(e)} = t^{(e)} B^TCB A^{(e)}  $$\n",
        "\n",
        "También, mencionar que no se emplean las formulas $2n-1$ y $2n$ para el ensamblaje matricial, ya que se trabaja con el comando ```np.ix_```, con el cual se optimiza el proceso, al inidicar cuáles son los grados de libertad que corresponden a cada entrada de la matriz de rigidez local en la global como sus posiciones. \n",
        "\n",
        "Primero, se definen las propiedades del material del EF."
      ]
    },
    {
      "cell_type": "code",
      "metadata": {
        "id": "Kox4_vp40wwV"
      },
      "source": [
        "E  = 200e6   # kPa, Módulo de elasticdad del acero.\n",
        "nu = 0.25    # --,  Coeficiente de Poisson. \n",
        "te = 0.0125  # m,   Espesor."
      ],
      "execution_count": 382,
      "outputs": []
    },
    {
      "cell_type": "code",
      "metadata": {
        "colab": {
          "base_uri": "https://localhost:8080/",
          "height": 0
        },
        "id": "RQ3NSsQmxKLW",
        "outputId": "174ac4ef-e65f-42c6-ad4b-b6c74aaa69a0"
      },
      "source": [
        "# Reservo memoria para los resultados.\n",
        "K   = np.zeros((NGDL, NGDL)) # Matriz de rigidez global\n",
        "idx = NEFS * [None]          # indices asociados a los gdl del EF e\n",
        "\n",
        "# matriz constitutiva del elemento para tensión plana.\n",
        "C_tp = np.array([\n",
        "    [E/(1-nu**2),    E*nu/(1-nu**2), 0           ],\n",
        "    [E*nu/(1-nu**2), E/(1-nu**2),    0           ],\n",
        "    [0,              0,              E/(2*(1+nu))]\n",
        "    ])\n",
        "\n",
        "# Imprimo la matriz constitutiva.\n",
        "print(\"Matriz constitutiva para tensión plana: \")\n",
        "print(\"C_tp = 1e6 *  \")\n",
        "print((C_tp/1e6).round(2))      # Factorizo 1e6 y redondeo los decimales.\n",
        "\n",
        "# Por cada elemento finito.\n",
        "for e in range(NEFS):        \n",
        "   x1, y1 = XYNOD[LaG[e,NL1]]\n",
        "   x2, y2 = XYNOD[LaG[e,NL2]]\n",
        "   x3, y3 = XYNOD[LaG[e,NL3]]\n",
        "\n",
        "   # Área del elemento finito.\n",
        "   Ae = 0.5*np.linalg.det(np.array([[ 1, x1, y1 ],      \n",
        "                                    [ 1, x2, y2 ],\n",
        "                                    [ 1, x3, y3 ]]))\n",
        "   if Ae <= 0:\n",
        "      raise Exception(\n",
        "         f'La numeración local del EF {e+1} debe especificarse en sentido antihorario.\\n')\n",
        "\n",
        "   # Calculo de la matriz cinemática B del EF e\n",
        "   b1 = y2-y3;        c1 = x3-x2\n",
        "   b2 = y3-y1;        c2 = x1-x3\n",
        "   b3 = y1-y2;        c3 = x2-x1\n",
        "\n",
        "   B = (1/(2*Ae))*np.array([\n",
        "       [ b1,  0,   b2,  0,   b3,  0 ],\n",
        "       [  0, c1,    0, c2,    0, c3 ],\n",
        "       [ c1, b1,   c2, b2,   c3, b3 ]\n",
        "       ])\n",
        "\n",
        "   # Imprimo el resultado de la matriz cinemática del EF e.\n",
        "   print(\"\\nMatriz cinemática del elemento {}\".format(e+1))\n",
        "   print(\"Be = \")\n",
        "   print(B.round(3))    # Factorizo 1e6 y redondeo los decimales.\n",
        "\n",
        "\n",
        "   # Calculo de la matriz de rigidez K del EF e\n",
        "   Ke = te * B.T @ C_tp @ B * Ae\n",
        "   \n",
        "   # Imprimo el resultado de la matriz de rigidez para e.\n",
        "   print(\"\\nMatriz de rigidez local del elemento {}\".format(e+1))\n",
        "   print(\"Ke = 1e6 * \")\n",
        "   print((Ke/1e6).round(3))\n",
        "\n",
        "   # Selecciono los nodos del EF apra el ensamblaje matricial.\n",
        "   idx[e] = np.r_[ GDL[LaG[e,NL1],:], GDL[LaG[e,NL2],:], GDL[LaG[e,NL3],:] ]\n",
        "   \n",
        "   # Realizo el ensamblaje matricial.\n",
        "   K[np.ix_(idx[e],idx[e])] += Ke"
      ],
      "execution_count": 383,
      "outputs": [
        {
          "output_type": "stream",
          "name": "stdout",
          "text": [
            "Matriz constitutiva para tensión plana: \n",
            "C_tp = 1e6 *  \n",
            "[[213.33  53.33   0.  ]\n",
            " [ 53.33 213.33   0.  ]\n",
            " [  0.     0.    80.  ]]\n",
            "\n",
            "Matriz cinemática del elemento 1\n",
            "Be = \n",
            "[[  0.    0.   10.    0.  -10.    0. ]\n",
            " [  0.   -2.    0.   -0.5   0.    2.5]\n",
            " [ -2.    0.   -0.5  10.    2.5 -10. ]]\n",
            "\n",
            "Matriz de rigidez local del elemento 1\n",
            "Ke = 1e6 * \n",
            "[[ 0.1    0.     0.025 -0.5   -0.125  0.5  ]\n",
            " [ 0.     0.267 -0.333  0.067  0.333 -0.333]\n",
            " [ 0.025 -0.333  6.673 -0.208 -6.698  0.542]\n",
            " [-0.5    0.067 -0.208  2.517  0.708 -2.583]\n",
            " [-0.125  0.333 -6.698  0.708  6.823 -1.042]\n",
            " [ 0.5   -0.333  0.542 -2.583 -1.042  2.917]]\n",
            "\n",
            "Matriz cinemática del elemento 2\n",
            "Be = \n",
            "[[-6.667  0.     6.667  0.     0.     0.   ]\n",
            " [ 0.    -0.333  0.    -1.667  0.     2.   ]\n",
            " [-0.333 -6.667 -1.667  6.667  2.     0.   ]]\n",
            "\n",
            "Matriz de rigidez local del elemento 2\n",
            "Ke = 1e6 * \n",
            "[[ 4.449  0.139 -4.424  0.194 -0.025 -0.333]\n",
            " [ 0.139  1.678  0.361 -1.611 -0.5   -0.067]\n",
            " [-4.424  0.361  4.549 -0.694 -0.125  0.333]\n",
            " [ 0.194 -1.611 -0.694  1.944  0.5   -0.333]\n",
            " [-0.025 -0.5   -0.125  0.5    0.15   0.   ]\n",
            " [-0.333 -0.067  0.333 -0.333  0.     0.4  ]]\n"
          ]
        }
      ]
    },
    {
      "cell_type": "code",
      "metadata": {
        "colab": {
          "base_uri": "https://localhost:8080/",
          "height": 0
        },
        "id": "jK_jWPfd258T",
        "outputId": "c2625b41-cb68-4121-be85-e93bcf30c225"
      },
      "source": [
        "# Imprimo a matriz de rigidez global.\n",
        "print(\"Matriz de rigidez global.\")\n",
        "print(\"K = 1e6 * \")\n",
        "print((K/1e6).round(3)) # Factorizo 1e6 y redondeo los decimales."
      ],
      "execution_count": 384,
      "outputs": [
        {
          "output_type": "stream",
          "name": "stdout",
          "text": [
            "Matriz de rigidez global.\n",
            "K = 1e6 * \n",
            "[[ 4.549  0.139 -4.424  0.194 -0.    -0.833 -0.125  0.5  ]\n",
            " [ 0.139  1.944  0.361 -1.611 -0.833 -0.     0.333 -0.333]\n",
            " [-4.424  0.361  4.549 -0.694 -0.125  0.333  0.     0.   ]\n",
            " [ 0.194 -1.611 -0.694  1.944  0.5   -0.333  0.     0.   ]\n",
            " [-0.    -0.833 -0.125  0.5    6.823 -0.208 -6.698  0.542]\n",
            " [-0.833 -0.     0.333 -0.333 -0.208  2.917  0.708 -2.583]\n",
            " [-0.125  0.333  0.     0.    -6.698  0.708  6.823 -1.042]\n",
            " [ 0.5   -0.333  0.     0.     0.542 -2.583 -1.042  2.917]]\n"
          ]
        }
      ]
    }
  ]
}