{
  "nbformat": 4,
  "nbformat_minor": 0,
  "metadata": {
    "colab": {
      "name": "Bhatti_73_LoadIncrements.ipynb",
      "provenance": [],
      "authorship_tag": "ABX9TyPC/FYTrP5adlTWo90mr7ZT",
      "include_colab_link": true
    },
    "kernelspec": {
      "name": "python3",
      "display_name": "Python 3"
    },
    "language_info": {
      "name": "python"
    }
  },
  "cells": [
    {
      "cell_type": "markdown",
      "metadata": {
        "id": "view-in-github",
        "colab_type": "text"
      },
      "source": [
        "<a href=\"https://colab.research.google.com/github/michaelherediaperez/EspecializacionEstructuras/blob/main/01_AnalisisNoLineal/Bhatti_73_LoadIncrements.ipynb\" target=\"_parent\"><img src=\"https://colab.research.google.com/assets/colab-badge.svg\" alt=\"Open In Colab\"/></a>"
      ]
    },
    {
      "cell_type": "markdown",
      "metadata": {
        "id": "37w8HVBZl1Dk"
      },
      "source": [
        "# Ejercicio Bhatti 7.3. Load Increments\n",
        "\n",
        "Michael Heredia Pérez - mherediap@unal.edu.co - Octubre 04 / 2021\n",
        "\n",
        "Mismo problema 7.1. con una variación: la ecuación diferencial definida como: \n",
        "\n",
        "$$\\frac{d}{dx}\\left(u^2\\frac{du}{dx}\\right) + \\lambda q(x) = 0$$\n",
        "$$0<x<L$$\n",
        "\n",
        "Con las siguientes condiciones de frontera:\n",
        "\n",
        "$$u(0) = 1;$$\n",
        "$$\\left(u^2\\frac{du}{dx}\\right)_{x=L} = \\lambda p;$$\n",
        "\n",
        "Usando valores nominales $p=1/2$ y $q=1$ y llegando a $\\lambda=4$ se llega a la ED inicial.\n",
        "\n",
        "\n",
        "\n",
        "## Solución\n",
        "\n"
      ]
    },
    {
      "cell_type": "code",
      "metadata": {
        "id": "fkEBvUx4l0Hu"
      },
      "source": [
        "# Iportación de librerías.\n",
        "import numpy as np\n",
        "import matplotlib.pyplot as plt\n",
        "from IPython.display import display, Math"
      ],
      "execution_count": 83,
      "outputs": []
    },
    {
      "cell_type": "markdown",
      "metadata": {
        "id": "wsDAm286q_OQ"
      },
      "source": [
        "### Parámetros del modelo\n",
        "\n",
        "Algunos parámetros geométricos son:"
      ]
    },
    {
      "cell_type": "code",
      "metadata": {
        "id": "JNxE0ZZgq9XH"
      },
      "source": [
        "nefs = 3        # Número de elementos finitos.\n",
        "nnds = nefs+1   # Número de nodos.\n",
        "ngdl = nnds     # Número de grados de libertad.\n",
        "L = 1           # Rango superior del dominio.\n",
        "\n",
        "# Posición de los nodos (x1, x, x3, x4)\n",
        "xnod = np.linspace(0, L, nnds)  "
      ],
      "execution_count": 84,
      "outputs": []
    },
    {
      "cell_type": "markdown",
      "metadata": {
        "id": "DxZntTZFrE2T"
      },
      "source": [
        "Parámetros de carga y condiciones de frontera\n"
      ]
    },
    {
      "cell_type": "code",
      "metadata": {
        "id": "Fp43cnW4rC-p"
      },
      "source": [
        "# Carga axial distribuida.\n",
        "q = 1\n",
        "\n",
        "# Vector de cargas puntuales.\n",
        "Rp = np.zeros(ngdl)\n",
        "\n",
        "# Vector de incrementos de carga.\n",
        "lambdas = [2, 4]"
      ],
      "execution_count": 85,
      "outputs": []
    },
    {
      "cell_type": "markdown",
      "metadata": {
        "id": "4oRhOKYprJu4"
      },
      "source": [
        "Intruduciendo las condiciones de frontera."
      ]
    },
    {
      "cell_type": "code",
      "metadata": {
        "id": "DpLteDWcrG9f"
      },
      "source": [
        "EBC = 1    # Essential Boundary Condition u1 = 1.\n",
        "NBC = 1/2    # Non-essential Boundary Condition."
      ],
      "execution_count": 86,
      "outputs": []
    },
    {
      "cell_type": "markdown",
      "metadata": {
        "id": "B-1o0RykuVFy"
      },
      "source": [
        "### Solución por Newton-Raphson\n",
        "\n",
        "Dado que es un problema no lineal, se puede solucionar mediante la repetición de series de análisis lineales para cantidades incrementales, así que se aplica el método de Newton-Raphson.\n",
        "\n",
        "Se conoce que $u_1 = 1$ por EBC, se construye un vector de desplazamientos iniciales $d^{(0)}$ tal que se respete dicha condición: "
      ]
    },
    {
      "cell_type": "code",
      "metadata": {
        "colab": {
          "base_uri": "https://localhost:8080/",
          "height": 55
        },
        "id": "XrPZQ9_prQYA",
        "outputId": "d9a494e1-c646-4c22-c7cc-99f135714ae3"
      },
      "source": [
        "# Vctor inicial (suposición) de desplazamientos d^(0)\n",
        "d_i = np.array([EBC, 2, 2, 2], dtype=float)   \n",
        "\n",
        "display(Math(r'd^{(0)} = '))\n",
        "print(d_i)"
      ],
      "execution_count": 87,
      "outputs": [
        {
          "output_type": "display_data",
          "data": {
            "text/latex": "$$d^{(0)} = $$",
            "text/plain": [
              "<IPython.core.display.Math object>"
            ]
          },
          "metadata": {}
        },
        {
          "output_type": "stream",
          "name": "stdout",
          "text": [
            "[1. 2. 2. 2.]\n"
          ]
        }
      ]
    },
    {
      "cell_type": "markdown",
      "metadata": {
        "id": "4eoN5ZC6ueRf"
      },
      "source": [
        "Durante el calculo iterativo, el vector de fuerzas externas no cambiará, así que se puede calcualr fuera del ciclo"
      ]
    },
    {
      "cell_type": "code",
      "metadata": {
        "colab": {
          "base_uri": "https://localhost:8080/",
          "height": 55
        },
        "id": "CkD0oeD9uZgb",
        "outputId": "7d360c42-c9d6-4f7a-bea4-06953a6fe801"
      },
      "source": [
        "Re_nbc = np.array([0, 0, 0,  NBC])\n",
        "\n",
        "display(Math(r'R_{E,NBC} ='))\n",
        "print(Re_nbc)"
      ],
      "execution_count": 88,
      "outputs": [
        {
          "output_type": "display_data",
          "data": {
            "text/latex": "$$R_{E,NBC} =$$",
            "text/plain": [
              "<IPython.core.display.Math object>"
            ]
          },
          "metadata": {}
        },
        {
          "output_type": "stream",
          "name": "stdout",
          "text": [
            "[0.  0.  0.  0.5]\n"
          ]
        }
      ]
    },
    {
      "cell_type": "markdown",
      "metadata": {
        "id": "Ncv0JKdvu272"
      },
      "source": [
        "Durante el calculo iterativo, el vector de fuerzas externas no cambiará, así que se puede calcular fuera del ciclo"
      ]
    },
    {
      "cell_type": "code",
      "metadata": {
        "id": "aBosG0Jo8v7b"
      },
      "source": [
        "# Reservo memoria: vector incompleto de fuerzas nodales externas.\n",
        "Re_ = np.zeros(ngdl)    \n",
        "\n",
        "for e in range(nefs):\n",
        "    \n",
        "    # Coordenadas globales de los nodos:\n",
        "    x1 = xnod[e]; x2 = xnod[e+1]\n",
        "    # Longitud del elemento:\n",
        "    l = x2-x1\n",
        "\n",
        "    # Vector de cargas externas local para ele elemento e:\n",
        "    # re = rq + rp\n",
        "    re = np.array([ q*l/2, q*l/2 ]) + np.array([ Rp[e], Rp[e+1] ])\n",
        "\n",
        "    idx = np.array([e, e+1])\n",
        "    Re_[idx] += re\n",
        "\n",
        "# Vector de fuerzas externas final.\n",
        "Re = Re_nbc + Re_\n",
        "# Debido a la condición EBC, elimino el primer valor.\n",
        "Re = np.delete(Re, 0) \n",
        "# Norma de Re al cuadrado.\n",
        "norm_Re2 = np.sum(Re**2)"
      ],
      "execution_count": 89,
      "outputs": []
    },
    {
      "cell_type": "code",
      "metadata": {
        "colab": {
          "base_uri": "https://localhost:8080/",
          "height": 127
        },
        "id": "-xbTKr4I843L",
        "outputId": "a0e0723e-9e83-4773-de93-b5f6d4e584cd"
      },
      "source": [
        "display(Math(r'R_{E sin NBC} ='))\n",
        "print(Re_.round(5))\n",
        "\n",
        "print(\"\\nVector de fuerzas externas ensamblado\")\n",
        "display(Math(r'R_{E} ='))\n",
        "print(Re.round(5))"
      ],
      "execution_count": 90,
      "outputs": [
        {
          "output_type": "display_data",
          "data": {
            "text/latex": "$$R_{E sin NBC} =$$",
            "text/plain": [
              "<IPython.core.display.Math object>"
            ]
          },
          "metadata": {}
        },
        {
          "output_type": "stream",
          "name": "stdout",
          "text": [
            "[0.16667 0.33333 0.33333 0.16667]\n",
            "\n",
            "Vector de fuerzas externas ensamblado\n"
          ]
        },
        {
          "output_type": "display_data",
          "data": {
            "text/latex": "$$R_{E} =$$",
            "text/plain": [
              "<IPython.core.display.Math object>"
            ]
          },
          "metadata": {}
        },
        {
          "output_type": "stream",
          "name": "stdout",
          "text": [
            "[0.33333 0.33333 0.66667]\n"
          ]
        }
      ]
    },
    {
      "cell_type": "markdown",
      "metadata": {
        "id": "PhCR7BPF6IaD"
      },
      "source": [
        "Se hace un ciclo iterativo para solucionar el problema:"
      ]
    },
    {
      "cell_type": "code",
      "metadata": {
        "id": "_umKlUZ987iW",
        "colab": {
          "base_uri": "https://localhost:8080/",
          "height": 1000
        },
        "outputId": "29b2c527-a96a-4a7c-de66-100fde901df4"
      },
      "source": [
        "NIT = 3 # Número de iteraciones a realizar.\n",
        "NIN = 2 # Número de incrementos de carga a tener en cuenta.\n",
        "\n",
        "# Por cada incremento de carga:\n",
        "for lam in lambdas:\n",
        "    \n",
        "    # Vector de fuerzas externas escalado por el factor de incremento.\n",
        "    lambdaRe = lam*Re\n",
        "    \n",
        "    print('='*80 + \"\\nIncremento lambda= \", str(lam))\n",
        "\n",
        "    # Por cada iteración:\n",
        "    for itr in range(NIT):\n",
        "        \n",
        "        # Reservo memoria:    \n",
        "        Kt = np.zeros((ngdl, ngdl)) # Matriz tangencial.\n",
        "        Ri = np.zeros(ngdl)         # Vector de fuerzas internas. \n",
        "\n",
        "        # Calculo para cada EF.\n",
        "        for e in range(nefs):\n",
        "\n",
        "            # Desplazamientos en los nodos locales del elemento.\n",
        "            u1 = d_i[e]; u2 = d_i[e+1] \n",
        "            # Coordenadas globales de los nodos:\n",
        "            x1 = xnod[e]; x2 = xnod[e+1]\n",
        "            # Longitud del elemento:\n",
        "            l = x2-x1\n",
        "\n",
        "            # Matriz tangencial del elemento e en la interación i\n",
        "            kt_i = np.array([\n",
        "                            [ u1**2/l, -u2**2/l],\n",
        "                            [-u1**2/l,  u2**2/l]\n",
        "                            ])\n",
        "            \n",
        "            # Vector de fuerzas internas.\n",
        "            ri_i = np.array([(u1**3 - u2**3)/(3*l), -(u1**3 - u2**3)/(3*l)])\n",
        "            \n",
        "            # gdl que interceden.\n",
        "            idx = np.array([e, e+1])\n",
        "            \n",
        "            # Ensamblaje de la matriz tangencial global.\n",
        "            Kt[np.ix_(idx, idx)] += kt_i\n",
        "            # Ensamblaje del vector de fuerzas internas.\n",
        "            Ri[idx] += ri_i\n",
        "\n",
        "        # Simplificaciones debido a la condición EBC.\n",
        "        Kt = np.delete(Kt, 0, axis=0)\n",
        "        Kt = np.delete(Kt, 0, axis=1)\n",
        "        Ri = np.delete(Ri, 0)\n",
        "\n",
        "        # Calculo del residuo R = Re - Ri\n",
        "        R = lambdaRe-Ri\n",
        "\n",
        "        # Norma de R al cuadrado.\n",
        "        norm_R2 = np.sum(R**2)\n",
        "\n",
        "        # Criterio de convergencia:\n",
        "        CNR = norm_R2 / (1+lam**2*norm_Re2)\n",
        "\n",
        "        # Solución de las ecuacioens incremetales:\n",
        "        delta_d = np.linalg.solve(Kt, R)\n",
        "\n",
        "        # Resultados.\n",
        "        print('-'*80 + \"\\nIteración \", str(itr+1))\n",
        "        display(Math(r'K_T^{} ='.format(itr)));              print(Kt.round(4))\n",
        "        display(Math(r'R_I^{} ='.format(itr)));              print(Ri.round(5))\n",
        "        display(Math(r'R^{} ='.format(itr)));                print(R.round(5))\n",
        "        display(Math(r'\\frac{\\|R\\|^2}{1 + \\| R_E\\|^2} = ')); print(CNR)\n",
        "        \n",
        "        # Comprobación del CNR.\n",
        "        if abs(CNR - 0.001)<0.001:\n",
        "            # Se deja el valor anterior.\n",
        "            print(\"Se ha llegado a una buena convergencia.\")\n",
        "            display(Math(r'd^{} ='.format(itr+1))); print(d_i.round(5))\n",
        "        else:\n",
        "            d_i[1:] += delta_d\n",
        "            display(Math(r'd^{} ='.format(itr+1))); print(d_i.round(5))      "
      ],
      "execution_count": 91,
      "outputs": [
        {
          "output_type": "stream",
          "name": "stdout",
          "text": [
            "================================================================================\n",
            "Incremento lambda=  2\n",
            "--------------------------------------------------------------------------------\n",
            "Iteración  1\n"
          ]
        },
        {
          "output_type": "display_data",
          "data": {
            "text/latex": "$$K_T^0 =$$",
            "text/plain": [
              "<IPython.core.display.Math object>"
            ]
          },
          "metadata": {}
        },
        {
          "output_type": "stream",
          "name": "stdout",
          "text": [
            "[[ 24. -12.   0.]\n",
            " [-12.  24. -12.]\n",
            " [  0. -12.  12.]]\n"
          ]
        },
        {
          "output_type": "display_data",
          "data": {
            "text/latex": "$$R_I^0 =$$",
            "text/plain": [
              "<IPython.core.display.Math object>"
            ]
          },
          "metadata": {}
        },
        {
          "output_type": "stream",
          "name": "stdout",
          "text": [
            "[7. 0. 0.]\n"
          ]
        },
        {
          "output_type": "display_data",
          "data": {
            "text/latex": "$$R^0 =$$",
            "text/plain": [
              "<IPython.core.display.Math object>"
            ]
          },
          "metadata": {}
        },
        {
          "output_type": "stream",
          "name": "stdout",
          "text": [
            "[-6.33333  0.66667  1.33333]\n"
          ]
        },
        {
          "output_type": "display_data",
          "data": {
            "text/latex": "$$\\frac{\\|R\\|^2}{1 + \\| R_E\\|^2} = $$",
            "text/plain": [
              "<IPython.core.display.Math object>"
            ]
          },
          "metadata": {}
        },
        {
          "output_type": "stream",
          "name": "stdout",
          "text": [
            "11.545454545454543\n"
          ]
        },
        {
          "output_type": "display_data",
          "data": {
            "text/latex": "$$d^1 =$$",
            "text/plain": [
              "<IPython.core.display.Math object>"
            ]
          },
          "metadata": {}
        },
        {
          "output_type": "stream",
          "name": "stdout",
          "text": [
            "[1.      1.63889 1.80556 1.91667]\n",
            "--------------------------------------------------------------------------------\n",
            "Iteración  2\n"
          ]
        },
        {
          "output_type": "display_data",
          "data": {
            "text/latex": "$$K_T^1 =$$",
            "text/plain": [
              "<IPython.core.display.Math object>"
            ]
          },
          "metadata": {}
        },
        {
          "output_type": "stream",
          "name": "stdout",
          "text": [
            "[[ 16.1157  -9.7801   0.    ]\n",
            " [ -8.0579  19.5602 -11.0208]\n",
            " [  0.      -9.7801  11.0208]]\n"
          ]
        },
        {
          "output_type": "display_data",
          "data": {
            "text/latex": "$$R_I^1 =$$",
            "text/plain": [
              "<IPython.core.display.Math object>"
            ]
          },
          "metadata": {}
        },
        {
          "output_type": "stream",
          "name": "stdout",
          "text": [
            "[1.9178  0.32926 1.15492]\n"
          ]
        },
        {
          "output_type": "display_data",
          "data": {
            "text/latex": "$$R^1 =$$",
            "text/plain": [
              "<IPython.core.display.Math object>"
            ]
          },
          "metadata": {}
        },
        {
          "output_type": "stream",
          "name": "stdout",
          "text": [
            "[-1.25114  0.33741  0.17841]\n"
          ]
        },
        {
          "output_type": "display_data",
          "data": {
            "text/latex": "$$\\frac{\\|R\\|^2}{1 + \\| R_E\\|^2} = $$",
            "text/plain": [
              "<IPython.core.display.Math object>"
            ]
          },
          "metadata": {}
        },
        {
          "output_type": "stream",
          "name": "stdout",
          "text": [
            "0.4666403844297438\n"
          ]
        },
        {
          "output_type": "display_data",
          "data": {
            "text/latex": "$$d^2 =$$",
            "text/plain": [
              "<IPython.core.display.Math object>"
            ]
          },
          "metadata": {}
        },
        {
          "output_type": "stream",
          "name": "stdout",
          "text": [
            "[1.      1.54763 1.78311 1.91294]\n",
            "--------------------------------------------------------------------------------\n",
            "Iteración  3\n"
          ]
        },
        {
          "output_type": "display_data",
          "data": {
            "text/latex": "$$K_T^2 =$$",
            "text/plain": [
              "<IPython.core.display.Math object>"
            ]
          },
          "metadata": {}
        },
        {
          "output_type": "stream",
          "name": "stdout",
          "text": [
            "[[ 14.371   -9.5385   0.    ]\n",
            " [ -7.1855  19.0769 -10.978 ]\n",
            " [  0.      -9.5385  10.978 ]]\n"
          ]
        },
        {
          "output_type": "display_data",
          "data": {
            "text/latex": "$$R_I^2 =$$",
            "text/plain": [
              "<IPython.core.display.Math object>"
            ]
          },
          "metadata": {}
        },
        {
          "output_type": "stream",
          "name": "stdout",
          "text": [
            "[0.74432 0.63184 1.3307 ]\n"
          ]
        },
        {
          "output_type": "display_data",
          "data": {
            "text/latex": "$$R^2 =$$",
            "text/plain": [
              "<IPython.core.display.Math object>"
            ]
          },
          "metadata": {}
        },
        {
          "output_type": "stream",
          "name": "stdout",
          "text": [
            "[-0.07765  0.03483  0.00264]\n"
          ]
        },
        {
          "output_type": "display_data",
          "data": {
            "text/latex": "$$\\frac{\\|R\\|^2}{1 + \\| R_E\\|^2} = $$",
            "text/plain": [
              "<IPython.core.display.Math object>"
            ]
          },
          "metadata": {}
        },
        {
          "output_type": "stream",
          "name": "stdout",
          "text": [
            "0.0019771089604163636\n",
            "Se ha llegado a una buena convergencia.\n"
          ]
        },
        {
          "output_type": "display_data",
          "data": {
            "text/latex": "$$d^3 =$$",
            "text/plain": [
              "<IPython.core.display.Math object>"
            ]
          },
          "metadata": {}
        },
        {
          "output_type": "stream",
          "name": "stdout",
          "text": [
            "[1.      1.54763 1.78311 1.91294]\n",
            "================================================================================\n",
            "Incremento lambda=  4\n",
            "--------------------------------------------------------------------------------\n",
            "Iteración  1\n"
          ]
        },
        {
          "output_type": "display_data",
          "data": {
            "text/latex": "$$K_T^0 =$$",
            "text/plain": [
              "<IPython.core.display.Math object>"
            ]
          },
          "metadata": {}
        },
        {
          "output_type": "stream",
          "name": "stdout",
          "text": [
            "[[ 14.371   -9.5385   0.    ]\n",
            " [ -7.1855  19.0769 -10.978 ]\n",
            " [  0.      -9.5385  10.978 ]]\n"
          ]
        },
        {
          "output_type": "display_data",
          "data": {
            "text/latex": "$$R_I^0 =$$",
            "text/plain": [
              "<IPython.core.display.Math object>"
            ]
          },
          "metadata": {}
        },
        {
          "output_type": "stream",
          "name": "stdout",
          "text": [
            "[0.74432 0.63184 1.3307 ]\n"
          ]
        },
        {
          "output_type": "display_data",
          "data": {
            "text/latex": "$$R^0 =$$",
            "text/plain": [
              "<IPython.core.display.Math object>"
            ]
          },
          "metadata": {}
        },
        {
          "output_type": "stream",
          "name": "stdout",
          "text": [
            "[0.58902 0.7015  1.33597]\n"
          ]
        },
        {
          "output_type": "display_data",
          "data": {
            "text/latex": "$$\\frac{\\|R\\|^2}{1 + \\| R_E\\|^2} = $$",
            "text/plain": [
              "<IPython.core.display.Math object>"
            ]
          },
          "metadata": {}
        },
        {
          "output_type": "stream",
          "name": "stdout",
          "text": [
            "0.22490184467528412\n"
          ]
        },
        {
          "output_type": "display_data",
          "data": {
            "text/latex": "$$d^1 =$$",
            "text/plain": [
              "<IPython.core.display.Math object>"
            ]
          },
          "metadata": {}
        },
        {
          "output_type": "stream",
          "name": "stdout",
          "text": [
            "[1.      1.91316 2.27207 2.45948]\n",
            "--------------------------------------------------------------------------------\n",
            "Iteración  2\n"
          ]
        },
        {
          "output_type": "display_data",
          "data": {
            "text/latex": "$$K_T^1 =$$",
            "text/plain": [
              "<IPython.core.display.Math object>"
            ]
          },
          "metadata": {}
        },
        {
          "output_type": "stream",
          "name": "stdout",
          "text": [
            "[[ 21.9611 -15.487    0.    ]\n",
            " [-10.9805  30.9739 -18.1471]\n",
            " [  0.     -15.487   18.1471]]\n"
          ]
        },
        {
          "output_type": "display_data",
          "data": {
            "text/latex": "$$R_I^1 =$$",
            "text/plain": [
              "<IPython.core.display.Math object>"
            ]
          },
          "metadata": {}
        },
        {
          "output_type": "stream",
          "name": "stdout",
          "text": [
            "[1.27582 1.57838 3.1483 ]\n"
          ]
        },
        {
          "output_type": "display_data",
          "data": {
            "text/latex": "$$R^1 =$$",
            "text/plain": [
              "<IPython.core.display.Math object>"
            ]
          },
          "metadata": {}
        },
        {
          "output_type": "stream",
          "name": "stdout",
          "text": [
            "[ 0.05751 -0.24505 -0.48163]\n"
          ]
        },
        {
          "output_type": "display_data",
          "data": {
            "text/latex": "$$\\frac{\\|R\\|^2}{1 + \\| R_E\\|^2} = $$",
            "text/plain": [
              "<IPython.core.display.Math object>"
            ]
          },
          "metadata": {}
        },
        {
          "output_type": "stream",
          "name": "stdout",
          "text": [
            "0.025313420865405476\n"
          ]
        },
        {
          "output_type": "display_data",
          "data": {
            "text/latex": "$$d^2 =$$",
            "text/plain": [
              "<IPython.core.display.Math object>"
            ]
          },
          "metadata": {}
        },
        {
          "output_type": "stream",
          "name": "stdout",
          "text": [
            "[1.      1.85222 2.18194 2.35602]\n",
            "--------------------------------------------------------------------------------\n",
            "Iteración  3\n"
          ]
        },
        {
          "output_type": "display_data",
          "data": {
            "text/latex": "$$K_T^2 =$$",
            "text/plain": [
              "<IPython.core.display.Math object>"
            ]
          },
          "metadata": {}
        },
        {
          "output_type": "stream",
          "name": "stdout",
          "text": [
            "[[ 20.5843 -14.2826   0.    ]\n",
            " [-10.2921  28.5653 -16.6525]\n",
            " [  0.     -14.2826  16.6525]]\n"
          ]
        },
        {
          "output_type": "display_data",
          "data": {
            "text/latex": "$$R_I^2 =$$",
            "text/plain": [
              "<IPython.core.display.Math object>"
            ]
          },
          "metadata": {}
        },
        {
          "output_type": "stream",
          "name": "stdout",
          "text": [
            "[1.32087 1.34365 2.6899 ]\n"
          ]
        },
        {
          "output_type": "display_data",
          "data": {
            "text/latex": "$$R^2 =$$",
            "text/plain": [
              "<IPython.core.display.Math object>"
            ]
          },
          "metadata": {}
        },
        {
          "output_type": "stream",
          "name": "stdout",
          "text": [
            "[ 0.01246 -0.01032 -0.02323]\n"
          ]
        },
        {
          "output_type": "display_data",
          "data": {
            "text/latex": "$$\\frac{\\|R\\|^2}{1 + \\| R_E\\|^2} = $$",
            "text/plain": [
              "<IPython.core.display.Math object>"
            ]
          },
          "metadata": {}
        },
        {
          "output_type": "stream",
          "name": "stdout",
          "text": [
            "6.86920696916803e-05\n",
            "Se ha llegado a una buena convergencia.\n"
          ]
        },
        {
          "output_type": "display_data",
          "data": {
            "text/latex": "$$d^3 =$$",
            "text/plain": [
              "<IPython.core.display.Math object>"
            ]
          },
          "metadata": {}
        },
        {
          "output_type": "stream",
          "name": "stdout",
          "text": [
            "[1.      1.85222 2.18194 2.35602]\n"
          ]
        }
      ]
    }
  ]
}