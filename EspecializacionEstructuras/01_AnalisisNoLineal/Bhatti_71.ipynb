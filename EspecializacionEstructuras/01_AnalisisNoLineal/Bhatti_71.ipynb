{
  "nbformat": 4,
  "nbformat_minor": 0,
  "metadata": {
    "colab": {
      "name": "Bhatti_71.ipynb",
      "provenance": [],
      "authorship_tag": "ABX9TyOemqmBXd62M9ZGh1wvtkPj",
      "include_colab_link": true
    },
    "kernelspec": {
      "name": "python3",
      "display_name": "Python 3"
    },
    "language_info": {
      "name": "python"
    }
  },
  "cells": [
    {
      "cell_type": "markdown",
      "metadata": {
        "id": "view-in-github",
        "colab_type": "text"
      },
      "source": [
        "<a href=\"https://colab.research.google.com/github/michaelherediaperez/EspecializacionEstructuras/blob/main/01_AnalisisNoLineal/Bhatti_71.ipynb\" target=\"_parent\"><img src=\"https://colab.research.google.com/assets/colab-badge.svg\" alt=\"Open In Colab\"/></a>"
      ]
    },
    {
      "cell_type": "markdown",
      "metadata": {
        "id": "CXgozZ3oltPt"
      },
      "source": [
        "# Ejercicio Bhatti 7.1. Three-Element Solution of the Problem.\n",
        "\n",
        "Michael Heredia Pérez - mherediap@unal.edu.co - Octubre 04 / 2021\n",
        "\n",
        "## Problema\n",
        "\n",
        "La siguiente ecuación diferencial define un problema no lineal: \n",
        "\n",
        "$$\\frac{d}{dx}\\left(u^2\\frac{du}{dx}\\right) + q(x) = 0$$\n",
        "$$0<x<L$$\n",
        "\n",
        "Con las siguientes condiciones de frontera:\n",
        "\n",
        "$$u(0) = 1$$\n",
        "$$\\left(u^2\\frac{du}{dx}\\right)_{x=L} = 2$$\n",
        "\n",
        "Se sabe que la solución exaccta es:\n",
        "\n",
        "$$u(x) = \\sqrt[3]{-6x^2+18x+1}$$\n",
        "\n",
        "Se pide calcular la solución la ecuación consdierando las condiciones de frontera mediante 3 elementos finitos. \n",
        "\n",
        "\n",
        "## Solución\n",
        "\n"
      ]
    },
    {
      "cell_type": "code",
      "metadata": {
        "id": "t2u6-1OzmK-d"
      },
      "source": [
        "# Iportación de librerías.\n",
        "import numpy as np\n",
        "import matplotlib.pyplot as plt\n",
        "from IPython.display import display, Math"
      ],
      "execution_count": null,
      "outputs": []
    },
    {
      "cell_type": "markdown",
      "metadata": {
        "id": "HPgqTd3Vmcwy"
      },
      "source": [
        "### Parámetros del modelo\n",
        "\n",
        "Algunos parámetros geométricos son:\n",
        "\n",
        "\n",
        "\n"
      ]
    },
    {
      "cell_type": "code",
      "metadata": {
        "id": "PvzAUugUmOay"
      },
      "source": [
        "nefs = 3        # Número de elementos finitos.\n",
        "nnds = nefs+1   # Número de nodos.\n",
        "ngdl = nnds     # Número de grados de libertad.\n",
        "L = 1           # Rango superior del dominio.\n",
        "\n",
        "# Posición de los nodos (x1, x, x3, x4)\n",
        "xnod = np.linspace(0, L, nnds)  "
      ],
      "execution_count": null,
      "outputs": []
    },
    {
      "cell_type": "markdown",
      "metadata": {
        "id": "GQeuEuoGp5iw"
      },
      "source": [
        "Parámetros de carga"
      ]
    },
    {
      "cell_type": "code",
      "metadata": {
        "id": "E2cgQPGRqr2P"
      },
      "source": [
        "# Carga axial distribuida.\n",
        "q = 4\n",
        "\n",
        "# Vector de cargas puntuales.\n",
        "Rp = np.zeros(ngdl)"
      ],
      "execution_count": null,
      "outputs": []
    },
    {
      "cell_type": "markdown",
      "metadata": {
        "id": "81A6g9vxoqlD"
      },
      "source": [
        "Intruduciendo las condiciones de frontera."
      ]
    },
    {
      "cell_type": "code",
      "metadata": {
        "id": "Q6aa6BAKowYH"
      },
      "source": [
        "EBC = 1    # Essential Boundary Condition u1 = 1.\n",
        "NBC = 2    # Non-essential Boundary Condition."
      ],
      "execution_count": null,
      "outputs": []
    },
    {
      "cell_type": "markdown",
      "metadata": {
        "id": "y1wzAobwmLc9"
      },
      "source": [
        "### Solución por Newton-Raphson\n",
        "\n",
        "Dado que es un problema no lineal, se puede solucionar mediante la repetición de series de análisis lineales para cantidades incrementales, así que se aplica el método de Newton-Raphson.\n",
        "\n",
        "Se conoce que $u_1 = 1$ por EBC, se construye un vector de desplazamientos iniciales $d^{(0)}$ tal que se respete dicha condición: "
      ]
    },
    {
      "cell_type": "code",
      "metadata": {
        "id": "WLGVmlral1go",
        "colab": {
          "base_uri": "https://localhost:8080/",
          "height": 57
        },
        "outputId": "683a84aa-bab4-4b7a-a47e-e6011f8907fe"
      },
      "source": [
        "# Vctor inicial (suposición) de desplazamientos d^(0)\n",
        "d_i = np.array([EBC, 2, 2, 2], dtype=float)   \n",
        "\n",
        "display(Math(r'd^{(0)} = '))\n",
        "print(d_i)"
      ],
      "execution_count": null,
      "outputs": [
        {
          "output_type": "display_data",
          "data": {
            "text/latex": "$$d^{(0)} = $$",
            "text/plain": [
              "<IPython.core.display.Math object>"
            ]
          },
          "metadata": {}
        },
        {
          "output_type": "stream",
          "name": "stdout",
          "text": [
            "[1. 2. 2. 2.]\n"
          ]
        }
      ]
    },
    {
      "cell_type": "markdown",
      "metadata": {
        "id": "KlNge4v5l8ow"
      },
      "source": [
        "El vector $R_E$ inicial se construye a partir de la NBC:\n"
      ]
    },
    {
      "cell_type": "code",
      "metadata": {
        "id": "p2GruEEvl7rf",
        "colab": {
          "base_uri": "https://localhost:8080/",
          "height": 57
        },
        "outputId": "f8e16409-2c6d-4244-8971-f0a9329728b4"
      },
      "source": [
        "Re_nbc = np.array([0, 0, 0,  NBC])\n",
        "\n",
        "display(Math(r'R_{E,NBC} ='))\n",
        "print(Re_nbc)"
      ],
      "execution_count": null,
      "outputs": [
        {
          "output_type": "display_data",
          "data": {
            "text/latex": "$$R_{E,NBC} =$$",
            "text/plain": [
              "<IPython.core.display.Math object>"
            ]
          },
          "metadata": {}
        },
        {
          "output_type": "stream",
          "name": "stdout",
          "text": [
            "[0 0 0 2]\n"
          ]
        }
      ]
    },
    {
      "cell_type": "markdown",
      "metadata": {
        "id": "SP1pgtSurwfY"
      },
      "source": [
        "Durante el calculo iterativo, el vector de fuerzas externas no cambiará, así que se puede calcular fuera del ciclo\n",
        "\n"
      ]
    },
    {
      "cell_type": "code",
      "metadata": {
        "id": "Q4oifM2DrvwC"
      },
      "source": [
        "# Reservo memoria: vector incompleto de fuerzas nodales externas.\n",
        "Re_ = np.zeros(ngdl)    \n",
        "\n",
        "for e in range(nefs):\n",
        "    \n",
        "    # Coordenadas globales de los nodos:\n",
        "    x1 = xnod[e]; x2 = xnod[e+1]\n",
        "    # Longitud del elemento:\n",
        "    l = x2-x1\n",
        "\n",
        "    # Vector de cargas externas local para ele elemento e:\n",
        "    # re = rq + rp\n",
        "    re = np.array([ q*l/2, q*l/2 ]) + np.array([ Rp[e], Rp[e+1] ])\n",
        "\n",
        "    idx = np.array([e, e+1])\n",
        "    Re_[idx] += re\n",
        "\n",
        "# Vector de fuerzas externas final.\n",
        "Re = Re_nbc + Re_\n",
        "# Debido a la condición EBC, elimino el primer valor.\n",
        "Re = np.delete(Re, 0) \n",
        "# Norma de Re al cuadrado.\n",
        "norm_Re2 = np.sum(Re**2)"
      ],
      "execution_count": null,
      "outputs": []
    },
    {
      "cell_type": "code",
      "metadata": {
        "colab": {
          "base_uri": "https://localhost:8080/",
          "height": 134
        },
        "id": "EuXWWG09mKac",
        "outputId": "ebf40a0b-ef3e-4a00-b7e5-f6f36668caa0"
      },
      "source": [
        "display(Math(r'R_{E sin NBC} ='))\n",
        "print(Re_.round(5))\n",
        "\n",
        "print(\"\\nVector de fuerzas externas ensamblado\")\n",
        "display(Math(r'R_{E} ='))\n",
        "print(Re.round(5))"
      ],
      "execution_count": null,
      "outputs": [
        {
          "output_type": "display_data",
          "data": {
            "text/latex": "$$R_{E sin NBC} =$$",
            "text/plain": [
              "<IPython.core.display.Math object>"
            ]
          },
          "metadata": {}
        },
        {
          "output_type": "stream",
          "name": "stdout",
          "text": [
            "[0.66667 1.33333 1.33333 0.66667]\n",
            "\n",
            "Vector de fuerzas externas ensamblado\n"
          ]
        },
        {
          "output_type": "display_data",
          "data": {
            "text/latex": "$$R_{E} =$$",
            "text/plain": [
              "<IPython.core.display.Math object>"
            ]
          },
          "metadata": {}
        },
        {
          "output_type": "stream",
          "name": "stdout",
          "text": [
            "[1.33333 1.33333 2.66667]\n"
          ]
        }
      ]
    },
    {
      "cell_type": "markdown",
      "metadata": {
        "id": "V_XFG5aywkgL"
      },
      "source": [
        "Se hace un ciclo iterativo para solucionar el problema:\n"
      ]
    },
    {
      "cell_type": "code",
      "metadata": {
        "colab": {
          "base_uri": "https://localhost:8080/",
          "height": 853
        },
        "id": "FmOcHAhlwkPf",
        "outputId": "ad4c6fcd-bb95-46fa-ceeb-c69490e5d824"
      },
      "source": [
        "# Número de iteraciones a realizar:\n",
        "NIT = 3\n",
        "\n",
        "# Por cada iteración:\n",
        "for itr in range(NIT):\n",
        "    \n",
        "    # Reservo memoria:    \n",
        "    Kt = np.zeros((ngdl, ngdl)) # Matriz tangencial.\n",
        "    Ri = np.zeros(ngdl)         # Vector de fuerzas internas. \n",
        "\n",
        "    # Calculo para cada EF.\n",
        "    for e in range(nefs):\n",
        "\n",
        "        # Desplazamientos en los nodos locales del elemento.\n",
        "        u1 = d_i[e]; u2 = d_i[e+1] \n",
        "        # Coordenadas globales de los nodos:\n",
        "        x1 = xnod[e]; x2 = xnod[e+1]\n",
        "        # Longitud del elemento:\n",
        "        l = x2-x1\n",
        "\n",
        "        # Matriz tangencial del elemento e en la interación i\n",
        "        kt_i = np.array([\n",
        "                        [ u1**2/l, -u2**2/l],\n",
        "                        [-u1**2/l,  u2**2/l]\n",
        "                        ])\n",
        "        \n",
        "        # Vector de fuerzas internas.\n",
        "        ri_i = np.array([(u1**3 - u2**3)/(3*l), -(u1**3 - u2**3)/(3*l)])\n",
        "        \n",
        "        # gdl que interceden.\n",
        "        idx = np.array([e, e+1])\n",
        "        \n",
        "        # Ensamblaje de la matriz tangencial global.\n",
        "        Kt[np.ix_(idx, idx)] += kt_i\n",
        "        # Ensamblaje del vector de fuerzas internas.\n",
        "        Ri[idx] += ri_i\n",
        "\n",
        "    # Simplificaciones debido a la condición EBC.\n",
        "    Kt = np.delete(Kt, 0, axis=0)\n",
        "    Kt = np.delete(Kt, 0, axis=1)\n",
        "    Ri = np.delete(Ri, 0)\n",
        "\n",
        "    # Calculo del residuo R = Re - Ri\n",
        "    R = Re-Ri\n",
        "\n",
        "    # Norma de R al cuadrado.\n",
        "    norm_R2 = np.sum(R**2)\n",
        "\n",
        "    # Criterio de convergencia:\n",
        "    CNR = norm_R2 / (1+norm_Re2)\n",
        "\n",
        "    # Solución de las ecuacioens incremetales:\n",
        "    delta_d = np.linalg.solve(Kt, R)\n",
        "\n",
        "    # Comprobación del CNR.\n",
        "    d_i[1:] += delta_d\n",
        "\n",
        "    # Resultados.\n",
        "    print('-'*80 + \"\\nIteración \", str(itr+1))\n",
        "    display(Math(r'K_T^{} ='.format(itr)));              print(Kt.round(4))\n",
        "    display(Math(r'R_I^{} ='.format(itr)));              print(Ri.round(5))\n",
        "    display(Math(r'R^{} ='.format(itr)));                print(R.round(5))\n",
        "    display(Math(r'\\frac{\\|R\\|^2}{1 + \\| R_E\\|^2} = ')); print(CNR)\n",
        "    display(Math(r'd^{} ='.format(itr+1)));              print(d_i.round(5))"
      ],
      "execution_count": null,
      "outputs": [
        {
          "output_type": "stream",
          "name": "stdout",
          "text": [
            "--------------------------------------------------------------------------------\n",
            "Iteración  1\n"
          ]
        },
        {
          "output_type": "display_data",
          "data": {
            "text/latex": "$$K_T^0 =$$",
            "text/plain": [
              "<IPython.core.display.Math object>"
            ]
          },
          "metadata": {}
        },
        {
          "output_type": "stream",
          "name": "stdout",
          "text": [
            "[[ 24. -12.   0.]\n",
            " [-12.  24. -12.]\n",
            " [  0. -12.  12.]]\n"
          ]
        },
        {
          "output_type": "display_data",
          "data": {
            "text/latex": "$$R_I^0 =$$",
            "text/plain": [
              "<IPython.core.display.Math object>"
            ]
          },
          "metadata": {}
        },
        {
          "output_type": "stream",
          "name": "stdout",
          "text": [
            "[7. 0. 0.]\n"
          ]
        },
        {
          "output_type": "display_data",
          "data": {
            "text/latex": "$$R^0 =$$",
            "text/plain": [
              "<IPython.core.display.Math object>"
            ]
          },
          "metadata": {}
        },
        {
          "output_type": "stream",
          "name": "stdout",
          "text": [
            "[-5.66667  1.33333  2.66667]\n"
          ]
        },
        {
          "output_type": "display_data",
          "data": {
            "text/latex": "$$\\frac{\\|R\\|^2}{1 + \\| R_E\\|^2} = $$",
            "text/plain": [
              "<IPython.core.display.Math object>"
            ]
          },
          "metadata": {}
        },
        {
          "output_type": "stream",
          "name": "stdout",
          "text": [
            "3.5142857142857147\n"
          ]
        },
        {
          "output_type": "display_data",
          "data": {
            "text/latex": "$$d^1 =$$",
            "text/plain": [
              "<IPython.core.display.Math object>"
            ]
          },
          "metadata": {}
        },
        {
          "output_type": "stream",
          "name": "stdout",
          "text": [
            "[1.      1.86111 2.19444 2.41667]\n",
            "--------------------------------------------------------------------------------\n",
            "Iteración  2\n"
          ]
        },
        {
          "output_type": "display_data",
          "data": {
            "text/latex": "$$K_T^1 =$$",
            "text/plain": [
              "<IPython.core.display.Math object>"
            ]
          },
          "metadata": {}
        },
        {
          "output_type": "stream",
          "name": "stdout",
          "text": [
            "[[ 20.7824 -14.4468   0.    ]\n",
            " [-10.3912  28.8935 -17.5208]\n",
            " [  0.     -14.4468  17.5208]]\n"
          ]
        },
        {
          "output_type": "display_data",
          "data": {
            "text/latex": "$$R_I^1 =$$",
            "text/plain": [
              "<IPython.core.display.Math object>"
            ]
          },
          "metadata": {}
        },
        {
          "output_type": "stream",
          "name": "stdout",
          "text": [
            "[1.32525 0.57467 3.54647]\n"
          ]
        },
        {
          "output_type": "display_data",
          "data": {
            "text/latex": "$$R^1 =$$",
            "text/plain": [
              "<IPython.core.display.Math object>"
            ]
          },
          "metadata": {}
        },
        {
          "output_type": "stream",
          "name": "stdout",
          "text": [
            "[ 0.00808  0.75866 -0.8798 ]\n"
          ]
        },
        {
          "output_type": "display_data",
          "data": {
            "text/latex": "$$\\frac{\\|R\\|^2}{1 + \\| R_E\\|^2} = $$",
            "text/plain": [
              "<IPython.core.display.Math object>"
            ]
          },
          "metadata": {}
        },
        {
          "output_type": "stream",
          "name": "stdout",
          "text": [
            "0.1156867652279307\n"
          ]
        },
        {
          "output_type": "display_data",
          "data": {
            "text/latex": "$$d^2 =$$",
            "text/plain": [
              "<IPython.core.display.Math object>"
            ]
          },
          "metadata": {}
        },
        {
          "output_type": "stream",
          "name": "stdout",
          "text": [
            "[1.      1.85023 2.17823 2.35308]\n",
            "--------------------------------------------------------------------------------\n",
            "Iteración  3\n"
          ]
        },
        {
          "output_type": "display_data",
          "data": {
            "text/latex": "$$K_T^2 =$$",
            "text/plain": [
              "<IPython.core.display.Math object>"
            ]
          },
          "metadata": {}
        },
        {
          "output_type": "stream",
          "name": "stdout",
          "text": [
            "[[ 20.5401 -14.2341   0.    ]\n",
            " [-10.2701  28.4682 -16.611 ]\n",
            " [  0.     -14.2341  16.611 ]]\n"
          ]
        },
        {
          "output_type": "display_data",
          "data": {
            "text/latex": "$$R_I^2 =$$",
            "text/plain": [
              "<IPython.core.display.Math object>"
            ]
          },
          "metadata": {}
        },
        {
          "output_type": "stream",
          "name": "stdout",
          "text": [
            "[1.33293 1.30707 2.69399]\n"
          ]
        },
        {
          "output_type": "display_data",
          "data": {
            "text/latex": "$$R^2 =$$",
            "text/plain": [
              "<IPython.core.display.Math object>"
            ]
          },
          "metadata": {}
        },
        {
          "output_type": "stream",
          "name": "stdout",
          "text": [
            "[ 0.00041  0.02626 -0.02733]\n"
          ]
        },
        {
          "output_type": "display_data",
          "data": {
            "text/latex": "$$\\frac{\\|R\\|^2}{1 + \\| R_E\\|^2} = $$",
            "text/plain": [
              "<IPython.core.display.Math object>"
            ]
          },
          "metadata": {}
        },
        {
          "output_type": "stream",
          "name": "stdout",
          "text": [
            "0.000123125692702296\n"
          ]
        },
        {
          "output_type": "display_data",
          "data": {
            "text/latex": "$$d^3 =$$",
            "text/plain": [
              "<IPython.core.display.Math object>"
            ]
          },
          "metadata": {}
        },
        {
          "output_type": "stream",
          "name": "stdout",
          "text": [
            "[1.      1.85017 2.17811 2.35134]\n"
          ]
        }
      ]
    },
    {
      "cell_type": "markdown",
      "metadata": {
        "id": "5ujpQ6YBBoLo"
      },
      "source": [
        "## Comparación de resultados\n",
        "\n",
        "A continuación se presenta la gráfica de la solución exacta contra la solución por NR con 3 EF."
      ]
    },
    {
      "cell_type": "code",
      "metadata": {
        "colab": {
          "base_uri": "https://localhost:8080/",
          "height": 281
        },
        "id": "DrCBB8b9_WhJ",
        "outputId": "c092df57-0f24-4580-bde8-edb984d1a797"
      },
      "source": [
        "# Solución exacta.\n",
        "xx = np.linspace(0, L, 100)\n",
        "ux = lambda x : (-6*x**2 + 18*x + 1)**(1/3)\n",
        "\n",
        "plt.figure()\n",
        "plt.plot(xx, ux(xx), \"k-\", label=\"Exacta\")\n",
        "plt.plot(xnod, d_i, \"r-\", label=\"3 EF\")\n",
        "plt.xlabel(\"x\")\n",
        "plt.ylabel(\"u(x)\")\n",
        "plt.legend()\n",
        "plt.show()"
      ],
      "execution_count": null,
      "outputs": [
        {
          "output_type": "display_data",
          "data": {
            "image/png": "[encoded data removed]",
            "text/plain": [
              "<Figure size 432x288 with 1 Axes>"
            ]
          },
          "metadata": {
            "needs_background": "light"
          }
        }
      ]
    },
    {
      "cell_type": "code",
      "metadata": {
        "id": "mJN5nnrnxW_r"
      },
      "source": [
        ""
      ],
      "execution_count": null,
      "outputs": []
    }
  ]
}