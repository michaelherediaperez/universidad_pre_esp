{
  "nbformat": 4,
  "nbformat_minor": 0,
  "metadata": {
    "colab": {
      "name": "Bhatti_72.ipynb",
      "provenance": [],
      "authorship_tag": "ABX9TyM1IJFCg8BDSuLuu3davLcP",
      "include_colab_link": true
    },
    "kernelspec": {
      "name": "python3",
      "display_name": "Python 3"
    },
    "language_info": {
      "name": "python"
    }
  },
  "cells": [
    {
      "cell_type": "markdown",
      "metadata": {
        "id": "view-in-github",
        "colab_type": "text"
      },
      "source": [
        "<a href=\"https://colab.research.google.com/github/michaelherediaperez/EspecializacionEstructuras/blob/main/01_AnalisisNoLineal/Bhatti_72.ipynb\" target=\"_parent\"><img src=\"https://colab.research.google.com/assets/colab-badge.svg\" alt=\"Open In Colab\"/></a>"
      ]
    },
    {
      "cell_type": "markdown",
      "metadata": {
        "id": "bkOXrSF5cSBM"
      },
      "source": [
        "# Ejercicio Bhatti 7.2. Constant Stiffness Iteration.\n",
        "\n",
        "Michael Heredia Pérez - mherediap@unal.edu.co - Octubre 04 / 2021\n",
        "\n",
        "Mismo problema 7.1 sin iterar la matriz tangencial."
      ]
    },
    {
      "cell_type": "code",
      "metadata": {
        "id": "GMlqYwarPv9k"
      },
      "source": [
        "# Iportación de librerías.\n",
        "import numpy as np\n",
        "import matplotlib.pyplot as plt\n",
        "from IPython.display import display, Math"
      ],
      "execution_count": 11,
      "outputs": []
    },
    {
      "cell_type": "markdown",
      "metadata": {
        "id": "yiNdm3o1eN4i"
      },
      "source": [
        "## Parámetros del modelo\n",
        "\n",
        "Algunos parámetros geométricos son:"
      ]
    },
    {
      "cell_type": "code",
      "metadata": {
        "id": "QQKzdpnreM7t"
      },
      "source": [
        "nefs = 3        # Número de elementos finitos.\n",
        "nnds = nefs+1   # Número de nodos.\n",
        "ngdl = nnds     # Número de grados de libertad.\n",
        "L = 1           # Rango superior del dominio.\n",
        "\n",
        "# Posición de los nodos (x1, x, x3, x4)\n",
        "xnod = np.linspace(0, L, nnds)  "
      ],
      "execution_count": 12,
      "outputs": []
    },
    {
      "cell_type": "markdown",
      "metadata": {
        "id": "W71JKRsAeVSH"
      },
      "source": [
        "Parámetros de carga"
      ]
    },
    {
      "cell_type": "code",
      "metadata": {
        "id": "CzLKEDONeU2c"
      },
      "source": [
        "# Carga axial distribuida.\n",
        "q = 4\n",
        "\n",
        "# Vector de cargas puntuales.\n",
        "Rp = np.zeros(ngdl)"
      ],
      "execution_count": 13,
      "outputs": []
    },
    {
      "cell_type": "markdown",
      "metadata": {
        "id": "P8Qz9BMIec2L"
      },
      "source": [
        "Introduciendo las condiciones de frontera"
      ]
    },
    {
      "cell_type": "code",
      "metadata": {
        "id": "I8eE0kCIeb2E"
      },
      "source": [
        "EBC = 1    # Essential Boundary Condition u1 = 1.\n",
        "NBC = 2    # Non-essential Boundary Condition."
      ],
      "execution_count": 14,
      "outputs": []
    },
    {
      "cell_type": "markdown",
      "metadata": {
        "id": "BCX6LDRDemPN"
      },
      "source": [
        "Al igual que en ele jercicio 7.1. se resuelve mediante Newton-Raphson considerando única la matriz de rigidez inicial."
      ]
    },
    {
      "cell_type": "code",
      "metadata": {
        "colab": {
          "base_uri": "https://localhost:8080/",
          "height": 57
        },
        "id": "SZoAlHQlegLU",
        "outputId": "205b7b07-0a2f-4e43-ae21-9a08cce82f03"
      },
      "source": [
        "# Vctor inicial (suposición) de desplazamientos d^(0)\n",
        "d_i = np.array([EBC, 2, 2, 2], dtype=float)   \n",
        "\n",
        "display(Math(r'd^{(0)} = '))\n",
        "print(d_i)"
      ],
      "execution_count": 15,
      "outputs": [
        {
          "output_type": "display_data",
          "data": {
            "text/latex": "$$d^{(0)} = $$",
            "text/plain": [
              "<IPython.core.display.Math object>"
            ]
          },
          "metadata": {}
        },
        {
          "output_type": "stream",
          "name": "stdout",
          "text": [
            "[1. 2. 2. 2.]\n"
          ]
        }
      ]
    },
    {
      "cell_type": "markdown",
      "metadata": {
        "id": "hXA5q9MgfB1p"
      },
      "source": [
        "El vector $R_E$ inicial se construye a partir de la NBC:"
      ]
    },
    {
      "cell_type": "code",
      "metadata": {
        "colab": {
          "base_uri": "https://localhost:8080/",
          "height": 57
        },
        "id": "IAiu1Ib_e4DT",
        "outputId": "18883095-f151-49dc-f1dc-6d26479a3116"
      },
      "source": [
        "Re_nbc = np.array([0, 0, 0,  NBC])\n",
        "\n",
        "display(Math(r'R_{E,NBC} ='))\n",
        "print(Re_nbc)"
      ],
      "execution_count": 16,
      "outputs": [
        {
          "output_type": "display_data",
          "data": {
            "text/latex": "$$R_{E,NBC} =$$",
            "text/plain": [
              "<IPython.core.display.Math object>"
            ]
          },
          "metadata": {}
        },
        {
          "output_type": "stream",
          "name": "stdout",
          "text": [
            "[0 0 0 2]\n"
          ]
        }
      ]
    },
    {
      "cell_type": "markdown",
      "metadata": {
        "id": "JNaQ89kBfH18"
      },
      "source": [
        "Durante el calculo iterativo, ni el vector de fuerzas externas **ni la matriz tangenial** cambiarán, así que se peuden calcular fuera del ciclo principal"
      ]
    },
    {
      "cell_type": "code",
      "metadata": {
        "id": "1UDL2_3wfDEP"
      },
      "source": [
        "# Reservo memoria: \n",
        "Re_ = np.zeros(ngdl)         # vector incompleto de fuerzas nodales externas.\n",
        "Kt  = np.zeros((ngdl, ngdl)) # Matriz tangencial.\n",
        "\n",
        "# Para cada elemento.\n",
        "for e in range(nefs):\n",
        "    \n",
        "    # Coordenadas globales de los nodos:\n",
        "    x1 = xnod[e]; x2 = xnod[e+1]\n",
        "    # Longitud del elemento:\n",
        "    l = x2-x1\n",
        "    # Desplazamientos en los nodos locales del elemento.\n",
        "    u1 = d_i[e]; u2 = d_i[e+1] \n",
        "    \n",
        "    # Matriz tangencial del elemento e en la interación i\n",
        "    kt_i = np.array([\n",
        "                    [ u1**2/l, -u2**2/l],\n",
        "                    [-u1**2/l,  u2**2/l]\n",
        "                    ])\n",
        "    \n",
        "    # Vector de cargas externas local para ele elemento e:\n",
        "    # re = rq + rp\n",
        "    re = np.array([ q*l/2, q*l/2 ]) + np.array([ Rp[e], Rp[e+1] ])\n",
        "\n",
        "    # gdl que interceden.\n",
        "    idx = np.array([e, e+1])\n",
        "    \n",
        "    # Ensamblaje de la matriz tangencial global.\n",
        "    Kt[np.ix_(idx, idx)] += kt_i    \n",
        "\n",
        "    # Ensamblaje del vector de fuerzas externas.\n",
        "    Re_[idx] += re\n",
        "\n",
        "# Vector de fuerzas externas final.\n",
        "Re = Re_nbc + Re_\n",
        "\n",
        "# Simplificaciones debido a la condición EBC.\n",
        "Kt = np.delete(Kt, 0, axis=0)\n",
        "Kt = np.delete(Kt, 0, axis=1)\n",
        "Re = np.delete(Re, 0) \n",
        "\n",
        "# Norma de Re al cuadrado.\n",
        "norm_Re2 = np.sum(Re**2)"
      ],
      "execution_count": 17,
      "outputs": []
    },
    {
      "cell_type": "code",
      "metadata": {
        "colab": {
          "base_uri": "https://localhost:8080/",
          "height": 246
        },
        "id": "BrXIidOGgQ8R",
        "outputId": "4335d106-c345-4b6e-f2a7-ece6c71cf2df"
      },
      "source": [
        "display(Math(r'R_{E sin NBC} ='))\n",
        "print(Re_.round(5))\n",
        "\n",
        "print(\"\\nVector de fuerzas externas ensamblado\")\n",
        "display(Math(r'R_{E} ='))\n",
        "print(Re.round(5))\n",
        "\n",
        "print(\"\\nMatriz tangencial de rigidez inicial\")\n",
        "display(Math(r'K_T^{0} =')); print(Kt.round(4))"
      ],
      "execution_count": 18,
      "outputs": [
        {
          "output_type": "display_data",
          "data": {
            "text/latex": "$$R_{E sin NBC} =$$",
            "text/plain": [
              "<IPython.core.display.Math object>"
            ]
          },
          "metadata": {}
        },
        {
          "output_type": "stream",
          "name": "stdout",
          "text": [
            "[0.66667 1.33333 1.33333 0.66667]\n",
            "\n",
            "Vector de fuerzas externas ensamblado\n"
          ]
        },
        {
          "output_type": "display_data",
          "data": {
            "text/latex": "$$R_{E} =$$",
            "text/plain": [
              "<IPython.core.display.Math object>"
            ]
          },
          "metadata": {}
        },
        {
          "output_type": "stream",
          "name": "stdout",
          "text": [
            "[1.33333 1.33333 2.66667]\n",
            "\n",
            "Matriz tangencial de rigidez inicial\n"
          ]
        },
        {
          "output_type": "display_data",
          "data": {
            "text/latex": "$$K_T^{0} =$$",
            "text/plain": [
              "<IPython.core.display.Math object>"
            ]
          },
          "metadata": {}
        },
        {
          "output_type": "stream",
          "name": "stdout",
          "text": [
            "[[ 24. -12.   0.]\n",
            " [-12.  24. -12.]\n",
            " [  0. -12.  12.]]\n"
          ]
        }
      ]
    },
    {
      "cell_type": "markdown",
      "metadata": {
        "id": "Y3lYULUXhhoh"
      },
      "source": [
        "Se hace un ciclo iterativo para solucionar el problema:"
      ]
    },
    {
      "cell_type": "code",
      "metadata": {
        "colab": {
          "base_uri": "https://localhost:8080/",
          "height": 825
        },
        "id": "sWeJTEOThW5_",
        "outputId": "d2913da6-e71a-4e63-b298-bf6e048b5612"
      },
      "source": [
        "# Número de iteraciones a realizar:\n",
        "NIT = 4\n",
        "\n",
        "# Por cada iteración:\n",
        "for itr in range(NIT):\n",
        "    \n",
        "    # Reservo memoria:    \n",
        "    Ri = np.zeros(ngdl)         # Vector de fuerzas internas. \n",
        "\n",
        "    # Calculo para cada EF.\n",
        "    for e in range(nefs):\n",
        "\n",
        "        # Desplazamientos en los nodos locales del elemento.\n",
        "        u1 = d_i[e]; u2 = d_i[e+1] \n",
        "        # Coordenadas globales de los nodos:\n",
        "        x1 = xnod[e]; x2 = xnod[e+1]\n",
        "        # Longitud del elemento:\n",
        "        l = x2-x1\n",
        "        \n",
        "        # Vector de fuerzas internas.\n",
        "        ri_i = np.array([(u1**3 - u2**3)/(3*l), -(u1**3 - u2**3)/(3*l)])\n",
        "        \n",
        "        # gdl que interceden.\n",
        "        idx = np.array([e, e+1])\n",
        "        \n",
        "        # Ensamblaje del vector de fuerzas internas.\n",
        "        Ri[idx] += ri_i\n",
        "\n",
        "    # Simplificaciones debido a la condición EBC.\n",
        "    Ri = np.delete(Ri, 0)\n",
        "\n",
        "    # Calculo del residuo R = Re - Ri\n",
        "    R = Re-Ri\n",
        "\n",
        "    # Norma de R al cuadrado.\n",
        "    norm_R2 = np.sum(R**2)\n",
        "\n",
        "    # Criterio de convergencia:\n",
        "    CNR = norm_R2 / (1+norm_Re2)\n",
        "\n",
        "    # Solución de las ecuacioens incremetales:\n",
        "    delta_d = np.linalg.solve(Kt, R)\n",
        "\n",
        "    # Comprobación del CNR.\n",
        "    d_i[1:] += delta_d\n",
        "\n",
        "    # Resultados.\n",
        "    print('-'*80 + \"\\nIteración \", str(itr+1))\n",
        "    #display(Math(r'K_T^{} ='.format(itr)));              print(Kt.round(4))\n",
        "    display(Math(r'R_I^{} ='.format(itr)));              print(Ri.round(5))\n",
        "    display(Math(r'R^{} ='.format(itr)));                print(R.round(5))\n",
        "    display(Math(r'\\frac{\\|R\\|^2}{1 + \\| R_E\\|^2} = ')); print(CNR)\n",
        "    display(Math(r'd^{} ='.format(itr+1)));              print(d_i.round(5))"
      ],
      "execution_count": 19,
      "outputs": [
        {
          "output_type": "stream",
          "name": "stdout",
          "text": [
            "--------------------------------------------------------------------------------\n",
            "Iteración  1\n"
          ]
        },
        {
          "output_type": "display_data",
          "data": {
            "text/latex": "$$R_I^0 =$$",
            "text/plain": [
              "<IPython.core.display.Math object>"
            ]
          },
          "metadata": {}
        },
        {
          "output_type": "stream",
          "name": "stdout",
          "text": [
            "[7. 0. 0.]\n"
          ]
        },
        {
          "output_type": "display_data",
          "data": {
            "text/latex": "$$R^0 =$$",
            "text/plain": [
              "<IPython.core.display.Math object>"
            ]
          },
          "metadata": {}
        },
        {
          "output_type": "stream",
          "name": "stdout",
          "text": [
            "[-5.66667  1.33333  2.66667]\n"
          ]
        },
        {
          "output_type": "display_data",
          "data": {
            "text/latex": "$$\\frac{\\|R\\|^2}{1 + \\| R_E\\|^2} = $$",
            "text/plain": [
              "<IPython.core.display.Math object>"
            ]
          },
          "metadata": {}
        },
        {
          "output_type": "stream",
          "name": "stdout",
          "text": [
            "3.5142857142857147\n"
          ]
        },
        {
          "output_type": "display_data",
          "data": {
            "text/latex": "$$d^1 =$$",
            "text/plain": [
              "<IPython.core.display.Math object>"
            ]
          },
          "metadata": {}
        },
        {
          "output_type": "stream",
          "name": "stdout",
          "text": [
            "[1.      1.86111 2.19444 2.41667]\n",
            "--------------------------------------------------------------------------------\n",
            "Iteración  2\n"
          ]
        },
        {
          "output_type": "display_data",
          "data": {
            "text/latex": "$$R_I^1 =$$",
            "text/plain": [
              "<IPython.core.display.Math object>"
            ]
          },
          "metadata": {}
        },
        {
          "output_type": "stream",
          "name": "stdout",
          "text": [
            "[1.32525 0.57467 3.54647]\n"
          ]
        },
        {
          "output_type": "display_data",
          "data": {
            "text/latex": "$$R^1 =$$",
            "text/plain": [
              "<IPython.core.display.Math object>"
            ]
          },
          "metadata": {}
        },
        {
          "output_type": "stream",
          "name": "stdout",
          "text": [
            "[ 0.00808  0.75866 -0.8798 ]\n"
          ]
        },
        {
          "output_type": "display_data",
          "data": {
            "text/latex": "$$\\frac{\\|R\\|^2}{1 + \\| R_E\\|^2} = $$",
            "text/plain": [
              "<IPython.core.display.Math object>"
            ]
          },
          "metadata": {}
        },
        {
          "output_type": "stream",
          "name": "stdout",
          "text": [
            "0.1156867652279307\n"
          ]
        },
        {
          "output_type": "display_data",
          "data": {
            "text/latex": "$$d^2 =$$",
            "text/plain": [
              "<IPython.core.display.Math object>"
            ]
          },
          "metadata": {}
        },
        {
          "output_type": "stream",
          "name": "stdout",
          "text": [
            "[1.      1.85169 2.17493 2.32383]\n",
            "--------------------------------------------------------------------------------\n",
            "Iteración  3\n"
          ]
        },
        {
          "output_type": "display_data",
          "data": {
            "text/latex": "$$R_I^2 =$$",
            "text/plain": [
              "<IPython.core.display.Math object>"
            ]
          },
          "metadata": {}
        },
        {
          "output_type": "stream",
          "name": "stdout",
          "text": [
            "[1.40989 1.67801 2.26108]\n"
          ]
        },
        {
          "output_type": "display_data",
          "data": {
            "text/latex": "$$R^2 =$$",
            "text/plain": [
              "<IPython.core.display.Math object>"
            ]
          },
          "metadata": {}
        },
        {
          "output_type": "stream",
          "name": "stdout",
          "text": [
            "[-0.07656 -0.34468  0.40559]\n"
          ]
        },
        {
          "output_type": "display_data",
          "data": {
            "text/latex": "$$\\frac{\\|R\\|^2}{1 + \\| R_E\\|^2} = $$",
            "text/plain": [
              "<IPython.core.display.Math object>"
            ]
          },
          "metadata": {}
        },
        {
          "output_type": "stream",
          "name": "stdout",
          "text": [
            "0.02478553686166986\n"
          ]
        },
        {
          "output_type": "display_data",
          "data": {
            "text/latex": "$$d^3 =$$",
            "text/plain": [
              "<IPython.core.display.Math object>"
            ]
          },
          "metadata": {}
        },
        {
          "output_type": "stream",
          "name": "stdout",
          "text": [
            "[1.      1.85038 2.1787  2.3614 ]\n",
            "--------------------------------------------------------------------------------\n",
            "Iteración  4\n"
          ]
        },
        {
          "output_type": "display_data",
          "data": {
            "text/latex": "$$R_I^3 =$$",
            "text/plain": [
              "<IPython.core.display.Math object>"
            ]
          },
          "metadata": {}
        },
        {
          "output_type": "stream",
          "name": "stdout",
          "text": [
            "[1.32947 1.18009 2.82602]\n"
          ]
        },
        {
          "output_type": "display_data",
          "data": {
            "text/latex": "$$R^3 =$$",
            "text/plain": [
              "<IPython.core.display.Math object>"
            ]
          },
          "metadata": {}
        },
        {
          "output_type": "stream",
          "name": "stdout",
          "text": [
            "[ 0.00387  0.15324 -0.15935]\n"
          ]
        },
        {
          "output_type": "display_data",
          "data": {
            "text/latex": "$$\\frac{\\|R\\|^2}{1 + \\| R_E\\|^2} = $$",
            "text/plain": [
              "<IPython.core.display.Math object>"
            ]
          },
          "metadata": {}
        },
        {
          "output_type": "stream",
          "name": "stdout",
          "text": [
            "0.004190775532008012\n"
          ]
        },
        {
          "output_type": "display_data",
          "data": {
            "text/latex": "$$d^4 =$$",
            "text/plain": [
              "<IPython.core.display.Math object>"
            ]
          },
          "metadata": {}
        },
        {
          "output_type": "stream",
          "name": "stdout",
          "text": [
            "[1.      1.8502  2.178   2.34743]\n"
          ]
        }
      ]
    }
  ]
}